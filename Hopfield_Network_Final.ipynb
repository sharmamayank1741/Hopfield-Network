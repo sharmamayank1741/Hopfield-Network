{
 "cells": [
  {
   "cell_type": "code",
   "execution_count": 61,
   "metadata": {},
   "outputs": [],
   "source": [
    "import numpy as np\n",
    "import random\n",
    "from random import shuffle"
   ]
  },
  {
   "cell_type": "code",
   "execution_count": 62,
   "metadata": {},
   "outputs": [],
   "source": [
    "y = np.array([1,1,0,0,0,0])"
   ]
  },
  {
   "cell_type": "code",
   "execution_count": 63,
   "metadata": {},
   "outputs": [
    {
     "name": "stdout",
     "output_type": "stream",
     "text": [
      "[1 1 0 0 0 0]\n"
     ]
    }
   ],
   "source": [
    "print(y)"
   ]
  },
  {
   "cell_type": "code",
   "execution_count": 64,
   "metadata": {},
   "outputs": [],
   "source": [
    "for i in range(6):\n",
    "    y[i] = y[i]*2-1"
   ]
  },
  {
   "cell_type": "code",
   "execution_count": 65,
   "metadata": {},
   "outputs": [
    {
     "name": "stdout",
     "output_type": "stream",
     "text": [
      "[ 1  1 -1 -1 -1 -1]\n"
     ]
    }
   ],
   "source": [
    "print(y)"
   ]
  },
  {
   "cell_type": "code",
   "execution_count": 66,
   "metadata": {},
   "outputs": [],
   "source": [
    "def create_W(x):\n",
    "    w = np.zeros([len(x),len(x)])\n",
    "    for i in range(len(x)):\n",
    "        for j in range(i,len(x)):\n",
    "                if i == j:\n",
    "                    w[i,j] = 0\n",
    "                else:\n",
    "                    w[i,j] = x[i]*x[j]\n",
    "                    w[j,i] = w[i,j]\n",
    "    return w"
   ]
  },
  {
   "cell_type": "code",
   "execution_count": 67,
   "metadata": {},
   "outputs": [],
   "source": [
    "w = create_W(y)"
   ]
  },
  {
   "cell_type": "code",
   "execution_count": 68,
   "metadata": {},
   "outputs": [
    {
     "name": "stdout",
     "output_type": "stream",
     "text": [
      "[[ 0.  1. -1. -1. -1. -1.]\n",
      " [ 1.  0. -1. -1. -1. -1.]\n",
      " [-1. -1.  0.  1.  1.  1.]\n",
      " [-1. -1.  1.  0.  1.  1.]\n",
      " [-1. -1.  1.  1.  0.  1.]\n",
      " [-1. -1.  1.  1.  1.  0.]]\n"
     ]
    }
   ],
   "source": [
    "print(w)"
   ]
  },
  {
   "cell_type": "code",
   "execution_count": 69,
   "metadata": {},
   "outputs": [],
   "source": [
    "y_vec = np.array([1,1,0,0,1,1])"
   ]
  },
  {
   "cell_type": "code",
   "execution_count": 70,
   "metadata": {},
   "outputs": [],
   "source": [
    "for i in range(6):\n",
    "    y_vec[i] = y_vec[i]*2-1"
   ]
  },
  {
   "cell_type": "code",
   "execution_count": 71,
   "metadata": {},
   "outputs": [
    {
     "name": "stdout",
     "output_type": "stream",
     "text": [
      "[ 1  1 -1 -1  1  1]\n"
     ]
    }
   ],
   "source": [
    "print(y_vec)"
   ]
  },
  {
   "cell_type": "code",
   "execution_count": 72,
   "metadata": {},
   "outputs": [],
   "source": [
    "def update(w,y_vec):\n",
    "    i = np.array([0,1,2,3,4,5])\n",
    "    shuffle(i)\n",
    "    for j in i :\n",
    "        u = np.dot(w[j][:],y_vec)\n",
    "\n",
    "        if u > 0:\n",
    "            y_vec[j] = 1\n",
    "        elif u < 0:\n",
    "            y_vec[j] = -1\n",
    "\n",
    "    return y_vec"
   ]
  },
  {
   "cell_type": "code",
   "execution_count": 73,
   "metadata": {},
   "outputs": [
    {
     "name": "stdout",
     "output_type": "stream",
     "text": [
      "[ 1  1 -1 -1  1  1]\n"
     ]
    }
   ],
   "source": [
    "print(y_vec)"
   ]
  },
  {
   "cell_type": "code",
   "execution_count": 74,
   "metadata": {},
   "outputs": [
    {
     "name": "stdout",
     "output_type": "stream",
     "text": [
      "[ 1  1 -1 -1  1  1]\n",
      " -->  [ 1  1 -1 -1 -1 -1]\n",
      "final stable point :  [ 1  1 -1 -1 -1 -1]\n"
     ]
    }
   ],
   "source": [
    "i=0\n",
    "while i<1 :\n",
    "    print(y_vec)\n",
    "    ycheck = y_vec\n",
    "    update(w,y_vec)\n",
    "    print(\" --> \",y_vec)\n",
    "    k=0\n",
    "    for j in range(6) :\n",
    "        if ycheck[j] == y_vec[j] :\n",
    "            k = k+1\n",
    "    if(k==6):\n",
    "        i=1\n",
    "        \n",
    "print(\"final stable point : \",y_vec)        "
   ]
  },
  {
   "cell_type": "code",
   "execution_count": null,
   "metadata": {},
   "outputs": [],
   "source": []
  }
 ],
 "metadata": {
  "kernelspec": {
   "display_name": "Python 3",
   "language": "python",
   "name": "python3"
  },
  "language_info": {
   "codemirror_mode": {
    "name": "ipython",
    "version": 3
   },
   "file_extension": ".py",
   "mimetype": "text/x-python",
   "name": "python",
   "nbconvert_exporter": "python",
   "pygments_lexer": "ipython3",
   "version": "3.6.8"
  }
 },
 "nbformat": 4,
 "nbformat_minor": 2
}
